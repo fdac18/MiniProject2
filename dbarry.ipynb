{
 "cells": [
  {
   "cell_type": "code",
   "execution_count": 7,
   "metadata": {},
   "outputs": [
    {
     "name": "stdout",
     "output_type": "stream",
     "text": [
      "Inserted all SourceForge URLs.\n",
      "Inserted all GitLab URLs.\n"
     ]
    }
   ],
   "source": [
    "########################################\n",
    "# Name: Daniel Barry\n",
    "# Professor: Dr. Audris Mockus\n",
    "# Date: 10/15/2018\n",
    "# MiniProject2\n",
    "# The purpose of this code is to store\n",
    "# the URLs from the project discovery\n",
    "# in the class database.\n",
    "########################################\n",
    "\n",
    "import pymongo\n",
    "\n",
    "## Database information for storage of discovery results.\n",
    "dbname = \"fdac18mp2\"\n",
    "collname = \"glprj_dbarry\"\n",
    "\n",
    "client = pymongo.MongoClient(host='da1')\n",
    "\n",
    "db = client[dbname]\n",
    "coll = db[collname]\n",
    "\n",
    "## Read-in the URLs from the SourceForge list.\n",
    "f = open(\"dbarry_sf_list.txt\", 'r')\n",
    "lines = f.readlines()\n",
    "f.close()\n",
    "\n",
    "## Store the URLs from the SourceForge List.\n",
    "for line in lines:\n",
    "        word = line.split()\n",
    "        coll.insert_one({\"url\": word[0]})\n",
    "\n",
    "print(\"Inserted all SourceForge URLs.\")\n",
    "\n",
    "## Read-in the URLs from the GitLab list.\n",
    "f = open(\"dbarry_gl_list.txt\", 'r')\n",
    "lines = f.readlines()\n",
    "f.close()\n",
    "\n",
    "## Store the URLs from the GitLab List.\n",
    "for line in lines:\n",
    "        word = line.split()\n",
    "        coll.insert_one({\"url\": word[0]})\n",
    "\n",
    "print(\"Inserted all GitLab URLs.\")"
   ]
  }
 ],
 "metadata": {
  "kernelspec": {
   "display_name": "Python 3",
   "language": "python",
   "name": "python3"
  },
  "language_info": {
   "codemirror_mode": {
    "name": "ipython",
    "version": 3
   },
   "file_extension": ".py",
   "mimetype": "text/x-python",
   "name": "python",
   "nbconvert_exporter": "python",
   "pygments_lexer": "ipython3",
   "version": "3.5.2"
  }
 },
 "nbformat": 4,
 "nbformat_minor": 2
}
