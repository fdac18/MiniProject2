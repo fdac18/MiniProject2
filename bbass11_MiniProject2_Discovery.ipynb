{
 "cells": [
  {
   "cell_type": "code",
   "execution_count": 16,
   "metadata": {},
   "outputs": [],
   "source": [
    "import sys\n",
    "import re\n",
    "import pymongo\n",
    "import json\n",
    "import time\n",
    "import datetime\n",
    "import requests\n",
    "from bs4 import BeautifulSoup\n",
    "\n",
    "dbname = \"fdac18mp2\" #please use this database\n",
    "collname = \"glprj_bbass11\" #please modify so you store data in your collection\n",
    "# beginning page index\n",
    "begin = \"0\"\n",
    "client = pymongo.MongoClient()\n",
    "letter = \"b\"\n",
    "\n",
    "db = client[dbname]\n",
    "coll = db[collname]\n",
    "\n",
    "\n",
    "beginurl = \"https://gitlab.com/api/v4/projects?archived=false&membership=false&order_by=created_at&owned=false&page=\" + begin + \\\n",
    "    \"&per_page=99&simple=false&sort=desc&starred=false&statistics=false&with_custom_attributes=false&with_issues_enabled=false&with_merge_requests_enabled=false\"\n",
    "\n",
    "\n",
    "gleft = 10\n",
    "\n",
    "header = {'per_page': 99}\n",
    "\n",
    "# check remaining query chances for rate-limit restriction\n",
    "def wait(left):\n",
    "    global header\n",
    "    while (left < 20):\n",
    "        l = requests.get('https://gitlab.com/api/v4/projects', headers=header)\n",
    "        if (l.ok):\n",
    "            left = int(l.headers.get('RateLimit-Remaining'))\n",
    "        time .sleep(60)\n",
    "    return left\n",
    "\n",
    "# send queries and extract urls \n",
    "def get(url, coll):\n",
    "\n",
    "    global gleft\n",
    "    global header\n",
    "    global bginnum\n",
    "    gleft = wait(gleft)\n",
    "    values = []\n",
    "    size = 0\n",
    "    count = 0\n",
    "\n",
    "    try:\n",
    "        r = requests .get(url, headers=header)\n",
    "        time .sleep(0.5)\n",
    "        # got blocked\n",
    "        if r.status_code == 403:\n",
    "            return \"got blocked\", str(bginnum)\n",
    "        if (r.ok):\n",
    "\n",
    "            gleft = int(r.headers.get('RateLimit-Remaining'))\n",
    "            lll = r.headers.get('Link')\n",
    "            t = r.text\n",
    "            array = json.loads(t)\n",
    "            \n",
    "            for el in array:\n",
    "                if el['name'].lower().startswith(letter):\n",
    "                    el['site'] = \"git\"\n",
    "                    count += 1\n",
    "                    coll.insert_one(el)\n",
    "                    if count > 49:\n",
    "                        return\n",
    "                \n",
    " \n",
    "            #next page\n",
    "            while ('; rel=\"next\"' in lll):\n",
    "                gleft = int(r.headers.get('RateLimit-Remaining'))\n",
    "                gleft = wait(gleft)\n",
    "                # extract next page url\n",
    "                ll = lll.replace(';', ',').split(',')\n",
    "                url = ll[ll.index(' rel=\"next\"') -\n",
    "                         1].replace('<', '').replace('>', '').lstrip()\n",
    "             \n",
    "                try:\n",
    "                    r = requests .get(url, headers=header)\n",
    "                    if r.status_code == 403:\n",
    "                        return \"got blocked\", str(bginnum)\n",
    "                    if (r.ok):\n",
    "                        lll = r.headers.get('Link')\n",
    "                        t = r.text\n",
    "                        array1 = json.loads(t)\n",
    "                        for el in array1:\n",
    "                            if el['name'].lower().startswith(letter):\n",
    "                                el['site'] = \"git\"\n",
    "                                count += 1\n",
    "                                coll.insert_one(el)\n",
    "                                if count > 49:\n",
    "                                    return\n",
    "                    else:\n",
    "                        sys.stderr.write(\"url can not found:\\n\" + url + '\\n')\n",
    "                        return \n",
    "                except requests.exceptions.ConnectionError:\n",
    "                    sys.stderr.write('could not get ' + url + '\\n')\n",
    "\n",
    "        else:\n",
    "            sys.stderr.write(\"url can not found:\\n\" + url + '\\n')\n",
    "            return\n",
    "\n",
    "    except requests.exceptions.ConnectionError:\n",
    "        sys.stderr.write('could not get ' + url + '\\n')\n",
    "    except Exception as e:\n",
    "        sys.stderr.write(url + ';' + str(e) + '\\n')"
   ]
  },
  {
   "cell_type": "code",
   "execution_count": 3,
   "metadata": {},
   "outputs": [],
   "source": [
    "#start retrieving        \n",
    "get(beginurl,coll)"
   ]
  },
  {
   "cell_type": "code",
   "execution_count": 57,
   "metadata": {},
   "outputs": [
    {
     "name": "stdout",
     "output_type": "stream",
     "text": [
      "{'namespace': {'full_path': 'kchoppin', 'name': 'kchoppin', 'path': 'kchoppin', 'kind': 'user', 'parent_id': None, 'id': 3532394}, 'created_at': '2018-10-10T19:35:15.074Z', 'web_url': 'https://gitlab.com/kchoppin/birthday-bitcoin', 'readme_url': None, 'path': 'birthday-bitcoin', 'default_branch': None, 'description': '', 'id': 8801814, 'ssh_url_to_repo': 'git@gitlab.com:kchoppin/birthday-bitcoin.git', 'path_with_namespace': 'kchoppin/birthday-bitcoin', 'last_activity_at': '2018-10-10T19:35:15.074Z', 'star_count': 0, 'http_url_to_repo': 'https://gitlab.com/kchoppin/birthday-bitcoin.git', 'name': 'Birthday Bitcoin', '_id': ObjectId('5bbe54dff318b932af8a62c5'), 'avatar_url': None, 'name_with_namespace': 'Kevin Choppin / Birthday Bitcoin', 'tag_list': [], 'forks_count': 0}\n"
     ]
    }
   ],
   "source": [
    "proj_array = np.array([])\n",
    "\n",
    "\n",
    "for proj in coll.find({}):\n",
    "    if proj['name'].lower().startswith(letter):\n",
    "        projs = (proj)\n",
    "        proj_array = np.append(proj_array, projs)\n",
    "        \n",
    "print(proj_array[0])"
   ]
  },
  {
   "cell_type": "code",
   "execution_count": 32,
   "metadata": {},
   "outputs": [],
   "source": [
    "# SourceForge\n",
    "Pages = 50\n",
    "\n",
    "url = []\n",
    "\n",
    "# Collect URLs\n",
    "for i in range(1,Pages):\n",
    "    url.append(\"https://sourceforge.net/directory/os%3Awindows/?q=b&page=\" + str(i))\n",
    "    \n",
    "# Get URL responses\n",
    "response = [requests.get(link) for link in url]"
   ]
  },
  {
   "cell_type": "code",
   "execution_count": 33,
   "metadata": {},
   "outputs": [],
   "source": [
    "# Function to select only unique entries in list\n",
    "def unique(seq): \n",
    "    \n",
    "   projs_checked = []\n",
    "\n",
    "   for el in seq:\n",
    "       if el not in projs_checked:\n",
    "           projs_checked.append(el)\n",
    "   return projs_checked"
   ]
  },
  {
   "cell_type": "code",
   "execution_count": 42,
   "metadata": {},
   "outputs": [],
   "source": [
    "# Iterate through responses and extract project names\n",
    "b_proj=[]\n",
    "for resp in response:\n",
    "    \n",
    "    html_soup = BeautifulSoup(resp.text, 'html.parser')\n",
    "    soup_string = str(html_soup)\n",
    "    \n",
    "    \n",
    "    regex = \"(?<=\\/projects\\/).+?(?=\\/)\"\n",
    "    matches = re.findall(regex, soup_string)\n",
    "    b_matches = [i for i in matches if i.lower().startswith('b')]\n",
    "    b_proj.append(b_matches)"
   ]
  },
  {
   "cell_type": "code",
   "execution_count": 43,
   "metadata": {},
   "outputs": [
    {
     "name": "stdout",
     "output_type": "stream",
     "text": [
      "[['b-e-c', 'b-e-c', 'b-e-c', 'b-e-c', 'b-e-c', 'bmaxwell', 'bmaxwell', 'bmaxwell', 'bmaxwell', 'bmaxwell', 'b-i-b-l-e', 'b-i-b-l-e', 'b-i-b-l-e', 'b-i-b-l-e', 'b-gaming-for-tester', 'b-gaming-for-tester', 'b-gaming-for-tester', 'b-gaming-for-tester', 'bowtie-bio', 'bowtie-bio', 'bowtie-bio', 'bowtie-bio', 'bowtie-bio'], ['basszxtune', 'basszxtune', 'basszxtune', 'basszxtune'], ['b-basic', 'b-basic', 'b-basic', 'b-basic', 'bincmp', 'bincmp', 'bincmp', 'bincmp'], ['btreeindextodbf', 'btreeindextodbf', 'btreeindextodbf', 'btreeindextodbf'], ['bcpl', 'bcpl', 'bcpl', 'bcpl'], ['b-ulysse-cc', 'b-ulysse-cc', 'b-ulysse-cc', 'b-ulysse-cc', 'benchmarksql2', 'benchmarksql2', 'benchmarksql2', 'benchmarksql2', 'bossa-fork', 'bossa-fork', 'bossa-fork', 'bossa-fork'], ['bliteos', 'bliteos', 'bliteos', 'bliteos', 'bgaming', 'bgaming', 'bgaming', 'bgaming', 'bcomp', 'bcomp', 'bcomp', 'bcomp'], ['bartrefiner', 'bartrefiner', 'bartrefiner', 'bartrefiner', 'b-linux', 'b-linux', 'b-linux', 'b-linux', 'blacklisted', 'blacklisted', 'blacklisted', 'blacklisted', 'blacklisted', 'blacklisted'], ['blueskysim', 'blueskysim', 'blueskysim', 'blueskysim', 'biblesimplex', 'biblesimplex', 'biblesimplex', 'biblesimplex', 'biblesimplex', 'b-mic', 'b-mic', 'b-mic', 'b-mic', 'brainstorm-b', 'brainstorm-b', 'brainstorm-b', 'brainstorm-b'], ['b-gnulinux', 'b-gnulinux', 'b-gnulinux', 'b-gnulinux', 'btff', 'btff', 'btff', 'btff', 'b-board-painting-software', 'b-board-painting-software', 'b-board-painting-software', 'b-board-painting-software'], ['bprocessor', 'bprocessor', 'bprocessor', 'bprocessor', 'bprocessor', 'brxmlio', 'brxmlio', 'brxmlio', 'brxmlio'], ['blogwritetools', 'blogwritetools', 'blogwritetools', 'blogwritetools'], ['buscadorsemnticoyontolgico', 'buscadorsemnticoyontolgico', 'buscadorsemnticoyontolgico', 'buscadorsemnticoyontolgico', 'bookingonlinefo', 'bookingonlinefo', 'bookingonlinefo', 'bookingonlinefo', 'bingocalc', 'bingocalc', 'bingocalc', 'bingocalc'], [], ['bufferanimation', 'bufferanimation', 'bufferanimation', 'bufferanimation', 'boardprofesion', 'boardprofesion', 'boardprofesion', 'boardprofesion', 'bint', 'bint', 'bint', 'bint', 'b-plus-plus', 'b-plus-plus', 'b-plus-plus', 'b-plus-plus', 'b-calm', 'b-calm', 'b-calm', 'b-calm'], ['b-o-s-s-a', 'b-o-s-s-a', 'b-o-s-s-a', 'b-o-s-s-a', 'b-o-s-s-a', 'blizqss', 'blizqss', 'blizqss', 'blizqss', 'bouso-a', 'bouso-a', 'bouso-a', 'bouso-a', 'bouso-a'], ['bqsearch', 'bqsearch', 'bqsearch', 'bqsearch', 'b-link', 'b-link', 'b-link', 'b-link', 'b-link', 'borderlands10', 'borderlands10', 'borderlands10', 'borderlands10'], ['burakaltr', 'burakaltr', 'burakaltr', 'burakaltr', 'bsharpsw', 'bsharpsw', 'bsharpsw', 'bsharpsw', 'backupchmaurer', 'backupchmaurer', 'backupchmaurer', 'backupchmaurer'], ['blog2epub', 'blog2epub', 'blog2epub', 'blog2epub', 'btdictionary', 'btdictionary', 'btdictionary', 'btdictionary', 'bkonvert', 'bkonvert', 'bkonvert', 'bkonvert'], ['bb232sda12datal', 'bb232sda12datal', 'bb232sda12datal', 'bb232sda12datal', 'b-unittesting', 'b-unittesting', 'b-unittesting', 'b-unittesting'], ['botsuit', 'botsuit', 'botsuit', 'botsuit', 'botsuit', 'boxspline2d', 'boxspline2d', 'boxspline2d', 'boxspline2d', 'bflow', 'bflow', 'bflow', 'bflow', 'b-grabber', 'b-grabber', 'b-grabber', 'b-grabber', 'b-shade', 'b-shade', 'b-shade', 'b-shade'], ['b-net', 'b-net', 'b-net', 'b-net', 'b-zone', 'b-zone', 'b-zone', 'b-zone', 'brandywine1', 'brandywine1', 'brandywine1', 'brandywine1', 'b612', 'b612', 'b612', 'b612', 'bclient', 'bclient', 'bclient', 'bclient'], ['b-gat', 'b-gat', 'b-gat', 'b-gat', 'browser-windows', 'browser-windows', 'browser-windows', 'browser-windows', 'bdd-tree', 'bdd-tree', 'bdd-tree', 'bdd-tree', 'bplusdotnet', 'bplusdotnet', 'bplusdotnet', 'bplusdotnet', 'bplusdotnet', 'b-forms', 'b-forms', 'b-forms', 'b-forms'], ['b-improved', 'b-improved', 'b-improved', 'b-improved', 'bnews-plus', 'bnews-plus', 'bnews-plus', 'bnews-plus', 'beetv', 'beetv', 'beetv', 'beetv', 'b-risk', 'b-risk', 'b-risk', 'b-risk', 'b-frame', 'b-frame', 'b-frame', 'b-frame'], ['bcache', 'bcache', 'bcache', 'bcache', 'bscribbles', 'bscribbles', 'bscribbles', 'bscribbles', 'bscribbles', 'bsframework', 'bsframework', 'bsframework', 'bsframework', 'bsframework', 'b-news', 'b-news', 'b-news', 'b-news', 'bookmarksync&gt;BookmarkSync&lt;'], ['b-reality', 'b-reality', 'b-reality', 'b-reality', 'b-i-m', 'b-i-m', 'b-i-m', 'b-i-m', 'blazegame', 'blazegame', 'blazegame', 'blazegame', 'btreeindex', 'btreeindex', 'btreeindex', 'btreeindex'], ['bipac', 'bipac', 'bipac', 'bipac', 'bbook', 'bbook', 'bbook', 'bbook'], ['btlchat', 'btlchat', 'btlchat', 'btlchat', 'b-itineris', 'b-itineris', 'b-itineris', 'b-itineris', 'bplus-tree', 'bplus-tree', 'bplus-tree', 'bplus-tree'], ['bmi-rechner', 'bmi-rechner', 'bmi-rechner', 'bmi-rechner', 'breinsoftspread', 'breinsoftspread', 'breinsoftspread', 'breinsoftspread', 'blanddern.berlios', 'blanddern.berlios', 'blanddern.berlios', 'blanddern.berlios'], [], [], [], [], [], [], [], [], [], [], [], [], [], [], [], [], [], [], [], []]\n"
     ]
    }
   ],
   "source": [
    "print(b_proj)"
   ]
  },
  {
   "cell_type": "code",
   "execution_count": 45,
   "metadata": {},
   "outputs": [
    {
     "name": "stdout",
     "output_type": "stream",
     "text": [
      "88\n"
     ]
    }
   ],
   "source": [
    "# Make list of unique project names\n",
    "b_list = unique([item for sublist in b_proj for item in sublist])\n",
    "\n",
    "print(len(b_list))"
   ]
  },
  {
   "cell_type": "code",
   "execution_count": 49,
   "metadata": {},
   "outputs": [],
   "source": [
    "# Iterate through projects\n",
    "sf_api= \"https://sourceforge.net/rest/p/\"\n",
    "\n",
    "projects = []\n",
    "proj = []\n",
    "for proj in b_list:\n",
    "    \n",
    "    resp = requests.get(sf_api + proj)\n",
    "    if(resp.status_code == 404):\n",
    "        continue\n",
    "        \n",
    "    text = json.loads(resp.text)\n",
    "    if(text['status'] == 'active'):\n",
    "        projects.append(text)"
   ]
  },
  {
   "cell_type": "code",
   "execution_count": 52,
   "metadata": {},
   "outputs": [
    {
     "name": "stdout",
     "output_type": "stream",
     "text": [
      "{'preferred_support_url': '', 'labels': ['files', 'file', 'extension'], 'shortname': 'b-e-c', 'video_url': None, 'icon_url': 'https://sourceforge.net/p/b-e-c/icon', 'categories': {'os': [{'fullname': 'Win2K', 'id': 420, 'shortname': 'mswin_2000', 'fullpath': 'Operating System :: Modern (Vendor-Supported) Desktop Operating Systems :: Win2K'}, {'fullname': 'WinXP', 'id': 419, 'shortname': 'mswin_xp', 'fullpath': 'Operating System :: Modern (Vendor-Supported) Desktop Operating Systems :: WinXP'}, {'fullname': 'All 32-bit MS Windows (95/98/NT/2000/XP)', 'id': 435, 'shortname': 'mswin_all32bit', 'fullpath': 'Operating System :: Grouping and Descriptive Categories :: All 32-bit MS Windows (95/98/NT/2000/XP)'}, {'fullname': '64-bit MS Windows', 'id': 655, 'shortname': 'win64', 'fullpath': 'Operating System :: Grouping and Descriptive Categories :: 64-bit MS Windows'}, {'fullname': 'Vista', 'id': 657, 'shortname': 'vista', 'fullpath': 'Operating System :: Modern (Vendor-Supported) Desktop Operating Systems :: Vista'}, {'fullname': 'Windows 7', 'id': 851, 'shortname': 'win7', 'fullpath': 'Operating System :: Modern (Vendor-Supported) Desktop Operating Systems :: Windows 7'}], 'license': [{'fullname': 'Creative Commons Attribution Non-Commercial License V2.0', 'id': 871, 'shortname': 'ccanclv2', 'fullpath': 'License :: Creative Commons Attribution License :: Creative Commons Attribution Non-Commercial License V2.0'}], 'translation': [{'fullname': 'English', 'id': 275, 'shortname': 'english', 'fullpath': 'Translations :: English'}], 'database': [], 'topic': [{'fullname': 'Storage', 'id': 638, 'shortname': 'storage', 'fullpath': 'Topic :: System :: Storage'}, {'fullname': 'File Management', 'id': 601, 'shortname': 'file_management', 'fullpath': 'Topic :: System :: Storage :: File Management'}, {'fullname': 'Filesystems', 'id': 142, 'shortname': 'filesystems', 'fullpath': 'Topic :: System :: Filesystems'}], 'developmentstatus': [{'fullname': '5 - Production/Stable', 'id': 11, 'shortname': 'production', 'fullpath': 'Development Status :: 5 - Production/Stable'}], 'environment': [{'fullname': 'Java Swing', 'id': 471, 'shortname': 'ui_swing', 'fullpath': 'User Interface :: Graphical :: Java Swing'}], 'language': [{'fullname': 'Java', 'id': 198, 'shortname': 'java', 'fullpath': 'Programming Language :: Java'}], 'audience': [{'fullname': 'Advanced End Users', 'id': 536, 'shortname': 'enduser_advanced', 'fullpath': 'Intended Audience :: by End-User Class :: Advanced End Users'}, {'fullname': 'End Users/Desktop', 'id': 2, 'shortname': 'endusers', 'fullpath': 'Intended Audience :: by End-User Class :: End Users/Desktop'}, {'fullname': 'Other Audience', 'id': 5, 'shortname': 'other', 'fullpath': 'Intended Audience :: Other Audience'}]}, 'screenshots': [{'url': 'https://sourceforge.net/p/b-e-c/screenshot/1.1%20gui.png', 'thumbnail_url': 'https://sourceforge.net/p/b-e-c/screenshot/1.1%20gui.png/thumb', 'caption': 'The GUI'}, {'url': 'https://sourceforge.net/p/b-e-c/screenshot/1.1-win-exp-con-menu.png', 'thumbnail_url': 'https://sourceforge.net/p/b-e-c/screenshot/1.1-win-exp-con-menu.png/thumb', 'caption': 'Windows explorer context menu'}], 'moved_to_url': '', 'preferred_support_tool': 'discussion', 'external_homepage': None, 'url': 'https://sourceforge.net/p/b-e-c/', 'short_description': 'This simple tool allows you to change the extensions of files in a given directory (and subdirectories) from one type to another. \\r\\n\\r\\nNo fluff or overblown GUI; does what it says on the tin.', 'name': 'Bulk Extension Changer', '_id': '4f32c9520594ca191300081b', 'tools': [{'tool_label': 'Files', 'url': '/p/b-e-c/files/', 'name': 'files', 'mount_point': 'files', 'installable': False, 'mount_label': 'Files', 'icons': {'32': 'images/downloads_32.png', '48': 'images/downloads_48.png', '24': 'images/downloads_24.png'}}, {'tool_label': 'Discussion', 'url': '/p/b-e-c/discussion/', 'name': 'discussion', 'mount_point': 'discussion', 'installable': True, 'mount_label': 'Discussion', 'icons': {'32': 'images/forums_32.png', '48': 'images/forums_48.png', '24': 'images/forums_24.png'}}, {'tool_label': 'Tickets', 'url': '/p/b-e-c/tickets/', 'name': 'tickets', 'mount_point': 'tickets', 'installable': True, 'mount_label': 'Tickets', 'icons': {'32': 'images/tickets_32.png', '48': 'images/tickets_48.png', '24': 'images/tickets_24.png'}}, {'tool_label': 'Support', 'url': '/p/b-e-c/support/', 'name': 'support', 'mount_point': 'support', 'installable': False, 'mount_label': 'Support', 'icons': {'32': 'images/sftheme/32x32/blog_32.png', '48': 'images/sftheme/48x48/blog_48.png', '24': 'images/sftheme/24x24/blog_24.png'}}, {'tool_label': 'Reviews', 'url': '/p/b-e-c/reviews/', 'name': 'reviews', 'mount_point': 'reviews', 'installable': False, 'mount_label': 'Reviews', 'icons': {'32': 'images/sftheme/32x32/blog_32.png', '48': 'images/sftheme/48x48/blog_48.png', '24': 'images/sftheme/24x24/blog_24.png'}}, {'tool_label': 'Summary', 'url': '/p/b-e-c/summary/', 'name': 'summary', 'mount_point': 'summary', 'installable': False, 'sourceforge_group_id': 687741, 'mount_label': 'Summary', 'icons': {'32': 'images/sftheme/32x32/blog_32.png', '48': 'images/sftheme/48x48/blog_48.png', '24': 'images/sftheme/24x24/blog_24.png'}}, {'tool_label': 'Tool', 'url': '/p/b-e-c/activity/', 'name': 'activity', 'mount_point': 'activity', 'installable': False, 'mount_label': 'Activity', 'icons': {'32': 'images/admin_32.png', '48': 'images/admin_48.png', '24': 'images/admin_24.png'}}, {'tool_label': 'External Link', 'url': '/p/b-e-c/link/', 'name': 'link', 'mount_point': 'link', 'installable': True, 'mount_label': 'Facebook Page', 'icons': {'32': 'images/ext_32.png', '48': 'images/ext_48.png', '24': 'images/ext_24.png'}}], 'socialnetworks': [{'socialnetwork': 'Twitter', 'accounturl': ''}, {'socialnetwork': 'Facebook', 'accounturl': 'https://www.facebook.com/BulkExtensionChanger/'}], 'creation_date': '2012-02-08', 'summary': 'Simple tool to change file extensions', 'developers': [{'username': 's-b-chamberlain', 'url': 'https://sourceforge.net/u/s-b-chamberlain/', 'name': 'Stephen Chamberlain'}], 'private': False, 'status': 'active'}\n"
     ]
    }
   ],
   "source": [
    "print(projects[0])"
   ]
  },
  {
   "cell_type": "code",
   "execution_count": 53,
   "metadata": {},
   "outputs": [],
   "source": [
    "count = 0\n",
    "\n",
    "for el in projects:\n",
    "        el['site'] = \"SF\"\n",
    "        count += 1\n",
    "        coll.insert_one(el)\n",
    "        if count > 49:\n",
    "            break"
   ]
  },
  {
   "cell_type": "code",
   "execution_count": 58,
   "metadata": {},
   "outputs": [
    {
     "name": "stdout",
     "output_type": "stream",
     "text": [
      "3024\n"
     ]
    }
   ],
   "source": [
    "proj_array = np.array([])\n",
    "\n",
    "for proj in coll.find({}):\n",
    "    if proj['name'].lower().startswith(letter):\n",
    "        projs = (proj)\n",
    "        proj_array = np.append(proj_array, projs)\n",
    "        \n",
    "print(len(proj_array))"
   ]
  },
  {
   "cell_type": "code",
   "execution_count": 59,
   "metadata": {},
   "outputs": [
    {
     "name": "stdout",
     "output_type": "stream",
     "text": [
      "{'icon_url': None, 'screenshots': [], 'site': 'SF', 'short_description': 'B-Client is a Windows DLL that provides internet communications protocols.  This C++ DLL supports SMTP, POP, IMAP and NNTP protocols with support for other open internet communication protocols in the future.', 'name': 'B-Client Communications Protocol Library', '_id': '5163065934309d2f05b1a601', 'tools': [{'tool_label': 'Summary', 'url': '/p/bclient/summary/', 'name': 'summary', 'mount_point': 'summary', 'installable': False, 'sourceforge_group_id': 126638, 'mount_label': 'Summary', 'icons': {'32': 'images/sftheme/32x32/blog_32.png', '48': 'images/sftheme/48x48/blog_48.png', '24': 'images/sftheme/24x24/blog_24.png'}}, {'tool_label': 'Support', 'url': '/p/bclient/support/', 'name': 'support', 'mount_point': 'support', 'installable': False, 'mount_label': 'Support', 'icons': {'32': 'images/sftheme/32x32/blog_32.png', '48': 'images/sftheme/48x48/blog_48.png', '24': 'images/sftheme/24x24/blog_24.png'}}, {'tool_label': 'CVS', 'url': '/p/bclient/code/', 'name': 'cvs', 'mount_point': 'code', 'installable': False, 'mount_label': 'Code', 'icons': {'32': 'images/code_32.png', '48': 'images/code_48.png', '24': 'images/code_24.png'}}, {'tool_label': 'Blog', 'url': '/p/bclient/news/', 'name': 'blog', 'mount_point': 'news', 'installable': True, 'mount_label': 'News', 'icons': {'32': 'images/blog_32.png', '48': 'images/blog_48.png', '24': 'images/blog_24.png'}}, {'tool_label': 'Wiki', 'url': '/p/bclient/wiki/', 'name': 'wiki', 'mount_point': 'wiki', 'installable': True, 'mount_label': 'Wiki', 'icons': {'32': 'images/wiki_32.png', '48': 'images/wiki_48.png', '24': 'images/wiki_24.png'}}, {'tool_label': 'Reviews', 'url': '/p/bclient/reviews/', 'name': 'reviews', 'mount_point': 'reviews', 'installable': False, 'mount_label': 'Reviews', 'icons': {'32': 'images/sftheme/32x32/blog_32.png', '48': 'images/sftheme/48x48/blog_48.png', '24': 'images/sftheme/24x24/blog_24.png'}}, {'tool_label': 'External Link', 'url': '/p/bclient/donate/', 'name': 'link', 'mount_point': 'donate', 'installable': True, 'mount_label': 'Donate', 'icons': {'32': 'images/ext_32.png', '48': 'images/ext_48.png', '24': 'images/ext_24.png'}}, {'tool_label': 'Files', 'url': '/p/bclient/files/', 'name': 'files', 'mount_point': 'files', 'installable': False, 'mount_label': 'Files', 'icons': {'32': 'images/downloads_32.png', '48': 'images/downloads_48.png', '24': 'images/downloads_24.png'}}, {'tool_label': 'Tool', 'url': '/p/bclient/activity/', 'name': 'activity', 'mount_point': 'activity', 'installable': False, 'mount_label': 'Activity', 'icons': {'32': 'images/admin_32.png', '48': 'images/admin_48.png', '24': 'images/admin_24.png'}}], 'creation_date': '2004-12-15', 'status': 'active', 'preferred_support_url': '', 'labels': [], 'shortname': 'bclient', 'video_url': '', 'url': 'https://sourceforge.net/p/bclient/', 'categories': {'license': [{'fullname': 'GNU Library or Lesser General Public License version 2.0 (LGPLv2)', 'id': 16, 'shortname': 'lgpl', 'fullpath': 'License :: OSI-Approved Open Source :: GNU Library or Lesser General Public License version 2.0 (LGPLv2)'}], 'os': [{'fullname': 'All 32-bit MS Windows (95/98/NT/2000/XP)', 'id': 435, 'shortname': 'mswin_all32bit', 'fullpath': 'Operating System :: Grouping and Descriptive Categories :: All 32-bit MS Windows (95/98/NT/2000/XP)'}], 'database': [], 'topic': [{'fullname': 'POP3', 'id': 34, 'shortname': 'pop3', 'fullpath': 'Topic :: Communications :: Email :: Post-Office :: POP3'}, {'fullname': 'IMAP', 'id': 35, 'shortname': 'imap', 'fullpath': 'Topic :: Communications :: Email :: Post-Office :: IMAP'}, {'fullname': 'Email Clients (MUA)', 'id': 31, 'shortname': 'mua', 'fullpath': 'Topic :: Communications :: Email :: Email Clients (MUA)'}], 'developmentstatus': [{'fullname': '3 - Alpha', 'id': 9, 'shortname': 'alpha', 'fullpath': 'Development Status :: 3 - Alpha'}], 'environment': [], 'audience': [{'fullname': 'Developers', 'id': 3, 'shortname': 'developers', 'fullpath': 'Intended Audience :: by End-User Class :: Developers'}], 'translation': [], 'language': [{'fullname': 'C++', 'id': 165, 'shortname': 'cpp', 'fullpath': 'Programming Language :: C++'}]}, 'preferred_support_tool': '', 'external_homepage': 'http://openconnector.org/bclient/', 'moved_to_url': '', 'socialnetworks': [], 'summary': '', 'developers': [], 'private': False}\n"
     ]
    }
   ],
   "source": [
    "# Ooops stored too much stuff :(\n",
    "print(proj_array[3000])"
   ]
  }
 ],
 "metadata": {
  "kernelspec": {
   "display_name": "Python 3",
   "language": "python",
   "name": "python3"
  },
  "language_info": {
   "codemirror_mode": {
    "name": "ipython",
    "version": 3
   },
   "file_extension": ".py",
   "mimetype": "text/x-python",
   "name": "python",
   "nbconvert_exporter": "python",
   "pygments_lexer": "ipython3",
   "version": "3.5.2"
  }
 },
 "nbformat": 4,
 "nbformat_minor": 2
}
